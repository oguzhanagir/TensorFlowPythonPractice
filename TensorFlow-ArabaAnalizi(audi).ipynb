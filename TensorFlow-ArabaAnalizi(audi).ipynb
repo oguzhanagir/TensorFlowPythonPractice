{
 "cells": [
  {
   "cell_type": "code",
   "execution_count": 1,
   "id": "2fa52e4f",
   "metadata": {},
   "outputs": [],
   "source": [
    "import numpy as np\n",
    "import pandas as pd\n",
    "import matplotlib.pyplot as plt\n",
    "import seaborn as sbn\n",
    "from sklearn.model_selection import train_test_split #test ve train ayırmak için\n",
    "from sklearn.preprocessing import MinMaxScaler\n",
    "from tensorflow.keras.models import Sequential #Model Oluşturma\n",
    "from tensorflow.keras.layers import Dense  #Katman Oluşturma\n",
    "from sklearn.metrics import mean_squared_error, mean_absolute_error"
   ]
  },
  {
   "cell_type": "code",
   "execution_count": 2,
   "id": "99709f87",
   "metadata": {},
   "outputs": [],
   "source": [
    "dataFrame = pd.read_csv(\"audi.csv\")"
   ]
  },
  {
   "cell_type": "code",
   "execution_count": 3,
   "id": "5b6e17a0",
   "metadata": {},
   "outputs": [
    {
     "data": {
      "text/html": [
       "<div>\n",
       "<style scoped>\n",
       "    .dataframe tbody tr th:only-of-type {\n",
       "        vertical-align: middle;\n",
       "    }\n",
       "\n",
       "    .dataframe tbody tr th {\n",
       "        vertical-align: top;\n",
       "    }\n",
       "\n",
       "    .dataframe thead th {\n",
       "        text-align: right;\n",
       "    }\n",
       "</style>\n",
       "<table border=\"1\" class=\"dataframe\">\n",
       "  <thead>\n",
       "    <tr style=\"text-align: right;\">\n",
       "      <th></th>\n",
       "      <th>year</th>\n",
       "      <th>price</th>\n",
       "      <th>mileage</th>\n",
       "      <th>tax</th>\n",
       "      <th>mpg</th>\n",
       "      <th>engineSize</th>\n",
       "    </tr>\n",
       "  </thead>\n",
       "  <tbody>\n",
       "    <tr>\n",
       "      <th>count</th>\n",
       "      <td>10668.000000</td>\n",
       "      <td>10668.000000</td>\n",
       "      <td>10668.000000</td>\n",
       "      <td>10668.000000</td>\n",
       "      <td>10668.000000</td>\n",
       "      <td>10668.000000</td>\n",
       "    </tr>\n",
       "    <tr>\n",
       "      <th>mean</th>\n",
       "      <td>2017.100675</td>\n",
       "      <td>22896.685039</td>\n",
       "      <td>24827.244001</td>\n",
       "      <td>126.011436</td>\n",
       "      <td>50.770022</td>\n",
       "      <td>1.930709</td>\n",
       "    </tr>\n",
       "    <tr>\n",
       "      <th>std</th>\n",
       "      <td>2.167494</td>\n",
       "      <td>11714.841888</td>\n",
       "      <td>23505.257205</td>\n",
       "      <td>67.170294</td>\n",
       "      <td>12.949782</td>\n",
       "      <td>0.602957</td>\n",
       "    </tr>\n",
       "    <tr>\n",
       "      <th>min</th>\n",
       "      <td>1997.000000</td>\n",
       "      <td>1490.000000</td>\n",
       "      <td>1.000000</td>\n",
       "      <td>0.000000</td>\n",
       "      <td>18.900000</td>\n",
       "      <td>0.000000</td>\n",
       "    </tr>\n",
       "    <tr>\n",
       "      <th>25%</th>\n",
       "      <td>2016.000000</td>\n",
       "      <td>15130.750000</td>\n",
       "      <td>5968.750000</td>\n",
       "      <td>125.000000</td>\n",
       "      <td>40.900000</td>\n",
       "      <td>1.500000</td>\n",
       "    </tr>\n",
       "    <tr>\n",
       "      <th>50%</th>\n",
       "      <td>2017.000000</td>\n",
       "      <td>20200.000000</td>\n",
       "      <td>19000.000000</td>\n",
       "      <td>145.000000</td>\n",
       "      <td>49.600000</td>\n",
       "      <td>2.000000</td>\n",
       "    </tr>\n",
       "    <tr>\n",
       "      <th>75%</th>\n",
       "      <td>2019.000000</td>\n",
       "      <td>27990.000000</td>\n",
       "      <td>36464.500000</td>\n",
       "      <td>145.000000</td>\n",
       "      <td>58.900000</td>\n",
       "      <td>2.000000</td>\n",
       "    </tr>\n",
       "    <tr>\n",
       "      <th>max</th>\n",
       "      <td>2020.000000</td>\n",
       "      <td>145000.000000</td>\n",
       "      <td>323000.000000</td>\n",
       "      <td>580.000000</td>\n",
       "      <td>188.300000</td>\n",
       "      <td>6.300000</td>\n",
       "    </tr>\n",
       "  </tbody>\n",
       "</table>\n",
       "</div>"
      ],
      "text/plain": [
       "               year          price        mileage           tax           mpg  \\\n",
       "count  10668.000000   10668.000000   10668.000000  10668.000000  10668.000000   \n",
       "mean    2017.100675   22896.685039   24827.244001    126.011436     50.770022   \n",
       "std        2.167494   11714.841888   23505.257205     67.170294     12.949782   \n",
       "min     1997.000000    1490.000000       1.000000      0.000000     18.900000   \n",
       "25%     2016.000000   15130.750000    5968.750000    125.000000     40.900000   \n",
       "50%     2017.000000   20200.000000   19000.000000    145.000000     49.600000   \n",
       "75%     2019.000000   27990.000000   36464.500000    145.000000     58.900000   \n",
       "max     2020.000000  145000.000000  323000.000000    580.000000    188.300000   \n",
       "\n",
       "         engineSize  \n",
       "count  10668.000000  \n",
       "mean       1.930709  \n",
       "std        0.602957  \n",
       "min        0.000000  \n",
       "25%        1.500000  \n",
       "50%        2.000000  \n",
       "75%        2.000000  \n",
       "max        6.300000  "
      ]
     },
     "execution_count": 3,
     "metadata": {},
     "output_type": "execute_result"
    }
   ],
   "source": [
    "dataFrame.describe()"
   ]
  },
  {
   "cell_type": "code",
   "execution_count": 4,
   "id": "9feae7e5",
   "metadata": {},
   "outputs": [
    {
     "data": {
      "text/plain": [
       "model           0\n",
       "year            0\n",
       "price           0\n",
       "transmission    0\n",
       "mileage         0\n",
       "fuelType        0\n",
       "tax             0\n",
       "mpg             0\n",
       "engineSize      0\n",
       "dtype: int64"
      ]
     },
     "execution_count": 4,
     "metadata": {},
     "output_type": "execute_result"
    }
   ],
   "source": [
    "dataFrame.isnull().sum() #null değer kontrolü"
   ]
  },
  {
   "cell_type": "code",
   "execution_count": 5,
   "id": "4d7a34f8",
   "metadata": {},
   "outputs": [
    {
     "data": {
      "text/plain": [
       "<AxesSubplot:xlabel='price', ylabel='Count'>"
      ]
     },
     "execution_count": 5,
     "metadata": {},
     "output_type": "execute_result"
    },
    {
     "data": {
      "image/png": "[encoded data removed]",
      "text/plain": [
       "<Figure size 504x360 with 1 Axes>"
      ]
     },
     "metadata": {
      "needs_background": "light"
     },
     "output_type": "display_data"
    }
   ],
   "source": [
    "plt.figure(figsize=(7,5))\n",
    "sbn.histplot(dataFrame[\"price\"])  # histogram dağılım grafiği "
   ]
  },
  {
   "cell_type": "code",
   "execution_count": 6,
   "id": "7561e915",
   "metadata": {},
   "outputs": [
    {
     "name": "stderr",
     "output_type": "stream",
     "text": [
      "C:\\Users\\oguzh\\anaconda3\\lib\\site-packages\\seaborn\\_decorators.py:36: FutureWarning: Pass the following variable as a keyword arg: x. From version 0.12, the only valid positional argument will be `data`, and passing other arguments without an explicit keyword will result in an error or misinterpretation.\n",
      "  warnings.warn(\n"
     ]
    },
    {
     "data": {
      "text/plain": [
       "<AxesSubplot:xlabel='year', ylabel='count'>"
      ]
     },
     "execution_count": 6,
     "metadata": {},
     "output_type": "execute_result"
    },
    {
     "data": {
      "image/png": "[encoded data removed]",
      "text/plain": [
       "<Figure size 432x288 with 1 Axes>"
      ]
     },
     "metadata": {
      "needs_background": "light"
     },
     "output_type": "display_data"
    }
   ],
   "source": [
    "sbn.countplot(dataFrame[\"year\"])  #kaç adet olduğunu gösteren grafik"
   ]
  },
  {
   "cell_type": "code",
   "execution_count": 7,
   "id": "77fc588a",
   "metadata": {},
   "outputs": [
    {
     "data": {
      "text/html": [
       "<div>\n",
       "<style scoped>\n",
       "    .dataframe tbody tr th:only-of-type {\n",
       "        vertical-align: middle;\n",
       "    }\n",
       "\n",
       "    .dataframe tbody tr th {\n",
       "        vertical-align: top;\n",
       "    }\n",
       "\n",
       "    .dataframe thead th {\n",
       "        text-align: right;\n",
       "    }\n",
       "</style>\n",
       "<table border=\"1\" class=\"dataframe\">\n",
       "  <thead>\n",
       "    <tr style=\"text-align: right;\">\n",
       "      <th></th>\n",
       "      <th>year</th>\n",
       "      <th>price</th>\n",
       "      <th>mileage</th>\n",
       "      <th>tax</th>\n",
       "      <th>mpg</th>\n",
       "      <th>engineSize</th>\n",
       "    </tr>\n",
       "  </thead>\n",
       "  <tbody>\n",
       "    <tr>\n",
       "      <th>year</th>\n",
       "      <td>1.000000</td>\n",
       "      <td>0.592581</td>\n",
       "      <td>-0.789667</td>\n",
       "      <td>0.093066</td>\n",
       "      <td>-0.351281</td>\n",
       "      <td>-0.031582</td>\n",
       "    </tr>\n",
       "    <tr>\n",
       "      <th>price</th>\n",
       "      <td>0.592581</td>\n",
       "      <td>1.000000</td>\n",
       "      <td>-0.535357</td>\n",
       "      <td>0.356157</td>\n",
       "      <td>-0.600334</td>\n",
       "      <td>0.591262</td>\n",
       "    </tr>\n",
       "    <tr>\n",
       "      <th>mileage</th>\n",
       "      <td>-0.789667</td>\n",
       "      <td>-0.535357</td>\n",
       "      <td>1.000000</td>\n",
       "      <td>-0.166547</td>\n",
       "      <td>0.395103</td>\n",
       "      <td>0.070710</td>\n",
       "    </tr>\n",
       "    <tr>\n",
       "      <th>tax</th>\n",
       "      <td>0.093066</td>\n",
       "      <td>0.356157</td>\n",
       "      <td>-0.166547</td>\n",
       "      <td>1.000000</td>\n",
       "      <td>-0.635909</td>\n",
       "      <td>0.393075</td>\n",
       "    </tr>\n",
       "    <tr>\n",
       "      <th>mpg</th>\n",
       "      <td>-0.351281</td>\n",
       "      <td>-0.600334</td>\n",
       "      <td>0.395103</td>\n",
       "      <td>-0.635909</td>\n",
       "      <td>1.000000</td>\n",
       "      <td>-0.365621</td>\n",
       "    </tr>\n",
       "    <tr>\n",
       "      <th>engineSize</th>\n",
       "      <td>-0.031582</td>\n",
       "      <td>0.591262</td>\n",
       "      <td>0.070710</td>\n",
       "      <td>0.393075</td>\n",
       "      <td>-0.365621</td>\n",
       "      <td>1.000000</td>\n",
       "    </tr>\n",
       "  </tbody>\n",
       "</table>\n",
       "</div>"
      ],
      "text/plain": [
       "                year     price   mileage       tax       mpg  engineSize\n",
       "year        1.000000  0.592581 -0.789667  0.093066 -0.351281   -0.031582\n",
       "price       0.592581  1.000000 -0.535357  0.356157 -0.600334    0.591262\n",
       "mileage    -0.789667 -0.535357  1.000000 -0.166547  0.395103    0.070710\n",
       "tax         0.093066  0.356157 -0.166547  1.000000 -0.635909    0.393075\n",
       "mpg        -0.351281 -0.600334  0.395103 -0.635909  1.000000   -0.365621\n",
       "engineSize -0.031582  0.591262  0.070710  0.393075 -0.365621    1.000000"
      ]
     },
     "execution_count": 7,
     "metadata": {},
     "output_type": "execute_result"
    }
   ],
   "source": [
    "dataFrame.corr() #correlation"
   ]
  },
  {
   "cell_type": "code",
   "execution_count": 8,
   "id": "6d1b8858",
   "metadata": {},
   "outputs": [
    {
     "data": {
      "text/plain": [
       "mpg          -0.600334\n",
       "mileage      -0.535357\n",
       "tax           0.356157\n",
       "engineSize    0.591262\n",
       "year          0.592581\n",
       "price         1.000000\n",
       "Name: price, dtype: float64"
      ]
     },
     "execution_count": 8,
     "metadata": {},
     "output_type": "execute_result"
    }
   ],
   "source": [
    "dataFrame.corr()[\"price\"].sort_values()"
   ]
  },
  {
   "cell_type": "code",
   "execution_count": 9,
   "id": "2784df24",
   "metadata": {},
   "outputs": [
    {
     "data": {
      "text/plain": [
       "<AxesSubplot:xlabel='mileage', ylabel='price'>"
      ]
     },
     "execution_count": 9,
     "metadata": {},
     "output_type": "execute_result"
    },
    {
     "data": {
      "image/png": "[encoded data removed]",
      "text/plain": [
       "<Figure size 432x288 with 1 Axes>"
      ]
     },
     "metadata": {
      "needs_background": "light"
     },
     "output_type": "display_data"
    }
   ],
   "source": [
    "sbn.scatterplot(x = \"mileage\", y=\"price\",data=dataFrame)"
   ]
  },
  {
   "cell_type": "code",
   "execution_count": 10,
   "id": "591f2ec4",
   "metadata": {},
   "outputs": [
    {
     "data": {
      "text/html": [
       "<div>\n",
       "<style scoped>\n",
       "    .dataframe tbody tr th:only-of-type {\n",
       "        vertical-align: middle;\n",
       "    }\n",
       "\n",
       "    .dataframe tbody tr th {\n",
       "        vertical-align: top;\n",
       "    }\n",
       "\n",
       "    .dataframe thead th {\n",
       "        text-align: right;\n",
       "    }\n",
       "</style>\n",
       "<table border=\"1\" class=\"dataframe\">\n",
       "  <thead>\n",
       "    <tr style=\"text-align: right;\">\n",
       "      <th></th>\n",
       "      <th>model</th>\n",
       "      <th>year</th>\n",
       "      <th>price</th>\n",
       "      <th>transmission</th>\n",
       "      <th>mileage</th>\n",
       "      <th>fuelType</th>\n",
       "      <th>tax</th>\n",
       "      <th>mpg</th>\n",
       "      <th>engineSize</th>\n",
       "    </tr>\n",
       "  </thead>\n",
       "  <tbody>\n",
       "    <tr>\n",
       "      <th>4783</th>\n",
       "      <td>R8</td>\n",
       "      <td>2020</td>\n",
       "      <td>145000</td>\n",
       "      <td>Semi-Auto</td>\n",
       "      <td>2000</td>\n",
       "      <td>Petrol</td>\n",
       "      <td>145</td>\n",
       "      <td>21.1</td>\n",
       "      <td>5.2</td>\n",
       "    </tr>\n",
       "    <tr>\n",
       "      <th>2255</th>\n",
       "      <td>R8</td>\n",
       "      <td>2020</td>\n",
       "      <td>137995</td>\n",
       "      <td>Semi-Auto</td>\n",
       "      <td>70</td>\n",
       "      <td>Petrol</td>\n",
       "      <td>145</td>\n",
       "      <td>21.1</td>\n",
       "      <td>5.2</td>\n",
       "    </tr>\n",
       "    <tr>\n",
       "      <th>4179</th>\n",
       "      <td>R8</td>\n",
       "      <td>2019</td>\n",
       "      <td>137500</td>\n",
       "      <td>Semi-Auto</td>\n",
       "      <td>10</td>\n",
       "      <td>Petrol</td>\n",
       "      <td>150</td>\n",
       "      <td>21.4</td>\n",
       "      <td>5.2</td>\n",
       "    </tr>\n",
       "    <tr>\n",
       "      <th>3367</th>\n",
       "      <td>R8</td>\n",
       "      <td>2019</td>\n",
       "      <td>135000</td>\n",
       "      <td>Automatic</td>\n",
       "      <td>1000</td>\n",
       "      <td>Petrol</td>\n",
       "      <td>145</td>\n",
       "      <td>32.8</td>\n",
       "      <td>5.2</td>\n",
       "    </tr>\n",
       "    <tr>\n",
       "      <th>5459</th>\n",
       "      <td>R8</td>\n",
       "      <td>2020</td>\n",
       "      <td>133900</td>\n",
       "      <td>Semi-Auto</td>\n",
       "      <td>333</td>\n",
       "      <td>Petrol</td>\n",
       "      <td>145</td>\n",
       "      <td>21.4</td>\n",
       "      <td>5.2</td>\n",
       "    </tr>\n",
       "    <tr>\n",
       "      <th>1646</th>\n",
       "      <td>R8</td>\n",
       "      <td>2019</td>\n",
       "      <td>129000</td>\n",
       "      <td>Semi-Auto</td>\n",
       "      <td>4000</td>\n",
       "      <td>Petrol</td>\n",
       "      <td>145</td>\n",
       "      <td>21.4</td>\n",
       "      <td>5.2</td>\n",
       "    </tr>\n",
       "    <tr>\n",
       "      <th>10468</th>\n",
       "      <td>R8</td>\n",
       "      <td>2019</td>\n",
       "      <td>125000</td>\n",
       "      <td>Automatic</td>\n",
       "      <td>13663</td>\n",
       "      <td>Petrol</td>\n",
       "      <td>150</td>\n",
       "      <td>21.4</td>\n",
       "      <td>5.2</td>\n",
       "    </tr>\n",
       "    <tr>\n",
       "      <th>4925</th>\n",
       "      <td>R8</td>\n",
       "      <td>2019</td>\n",
       "      <td>125000</td>\n",
       "      <td>Semi-Auto</td>\n",
       "      <td>500</td>\n",
       "      <td>Petrol</td>\n",
       "      <td>145</td>\n",
       "      <td>21.4</td>\n",
       "      <td>5.2</td>\n",
       "    </tr>\n",
       "    <tr>\n",
       "      <th>3359</th>\n",
       "      <td>R8</td>\n",
       "      <td>2019</td>\n",
       "      <td>125000</td>\n",
       "      <td>Automatic</td>\n",
       "      <td>100</td>\n",
       "      <td>Petrol</td>\n",
       "      <td>145</td>\n",
       "      <td>24.1</td>\n",
       "      <td>5.2</td>\n",
       "    </tr>\n",
       "    <tr>\n",
       "      <th>7445</th>\n",
       "      <td>R8</td>\n",
       "      <td>2019</td>\n",
       "      <td>119995</td>\n",
       "      <td>Semi-Auto</td>\n",
       "      <td>7800</td>\n",
       "      <td>Petrol</td>\n",
       "      <td>145</td>\n",
       "      <td>21.4</td>\n",
       "      <td>5.2</td>\n",
       "    </tr>\n",
       "    <tr>\n",
       "      <th>7128</th>\n",
       "      <td>R8</td>\n",
       "      <td>2019</td>\n",
       "      <td>119450</td>\n",
       "      <td>Automatic</td>\n",
       "      <td>3000</td>\n",
       "      <td>Petrol</td>\n",
       "      <td>145</td>\n",
       "      <td>21.4</td>\n",
       "      <td>5.2</td>\n",
       "    </tr>\n",
       "    <tr>\n",
       "      <th>4742</th>\n",
       "      <td>R8</td>\n",
       "      <td>2019</td>\n",
       "      <td>117990</td>\n",
       "      <td>Automatic</td>\n",
       "      <td>11936</td>\n",
       "      <td>Petrol</td>\n",
       "      <td>145</td>\n",
       "      <td>21.4</td>\n",
       "      <td>5.2</td>\n",
       "    </tr>\n",
       "    <tr>\n",
       "      <th>5707</th>\n",
       "      <td>R8</td>\n",
       "      <td>2019</td>\n",
       "      <td>116000</td>\n",
       "      <td>Automatic</td>\n",
       "      <td>2369</td>\n",
       "      <td>Petrol</td>\n",
       "      <td>145</td>\n",
       "      <td>22.6</td>\n",
       "      <td>5.2</td>\n",
       "    </tr>\n",
       "    <tr>\n",
       "      <th>3939</th>\n",
       "      <td>R8</td>\n",
       "      <td>2019</td>\n",
       "      <td>112990</td>\n",
       "      <td>Automatic</td>\n",
       "      <td>8175</td>\n",
       "      <td>Petrol</td>\n",
       "      <td>145</td>\n",
       "      <td>21.6</td>\n",
       "      <td>5.2</td>\n",
       "    </tr>\n",
       "    <tr>\n",
       "      <th>4954</th>\n",
       "      <td>R8</td>\n",
       "      <td>2019</td>\n",
       "      <td>109990</td>\n",
       "      <td>Automatic</td>\n",
       "      <td>6954</td>\n",
       "      <td>Petrol</td>\n",
       "      <td>145</td>\n",
       "      <td>21.6</td>\n",
       "      <td>5.2</td>\n",
       "    </tr>\n",
       "    <tr>\n",
       "      <th>6384</th>\n",
       "      <td>RS6</td>\n",
       "      <td>2020</td>\n",
       "      <td>109495</td>\n",
       "      <td>Semi-Auto</td>\n",
       "      <td>1500</td>\n",
       "      <td>Petrol</td>\n",
       "      <td>150</td>\n",
       "      <td>22.1</td>\n",
       "      <td>4.0</td>\n",
       "    </tr>\n",
       "    <tr>\n",
       "      <th>10225</th>\n",
       "      <td>RS6</td>\n",
       "      <td>2020</td>\n",
       "      <td>104948</td>\n",
       "      <td>Automatic</td>\n",
       "      <td>3000</td>\n",
       "      <td>Petrol</td>\n",
       "      <td>145</td>\n",
       "      <td>22.1</td>\n",
       "      <td>4.0</td>\n",
       "    </tr>\n",
       "    <tr>\n",
       "      <th>4400</th>\n",
       "      <td>RS6</td>\n",
       "      <td>2020</td>\n",
       "      <td>102544</td>\n",
       "      <td>Semi-Auto</td>\n",
       "      <td>2000</td>\n",
       "      <td>Petrol</td>\n",
       "      <td>145</td>\n",
       "      <td>22.1</td>\n",
       "      <td>4.0</td>\n",
       "    </tr>\n",
       "    <tr>\n",
       "      <th>3711</th>\n",
       "      <td>RS6</td>\n",
       "      <td>2020</td>\n",
       "      <td>97500</td>\n",
       "      <td>Semi-Auto</td>\n",
       "      <td>3220</td>\n",
       "      <td>Petrol</td>\n",
       "      <td>150</td>\n",
       "      <td>22.1</td>\n",
       "      <td>4.0</td>\n",
       "    </tr>\n",
       "    <tr>\n",
       "      <th>8630</th>\n",
       "      <td>R8</td>\n",
       "      <td>2018</td>\n",
       "      <td>95950</td>\n",
       "      <td>Automatic</td>\n",
       "      <td>5044</td>\n",
       "      <td>Petrol</td>\n",
       "      <td>150</td>\n",
       "      <td>23.0</td>\n",
       "      <td>5.2</td>\n",
       "    </tr>\n",
       "  </tbody>\n",
       "</table>\n",
       "</div>"
      ],
      "text/plain": [
       "      model  year   price transmission  mileage fuelType  tax   mpg  \\\n",
       "4783     R8  2020  145000    Semi-Auto     2000   Petrol  145  21.1   \n",
       "2255     R8  2020  137995    Semi-Auto       70   Petrol  145  21.1   \n",
       "4179     R8  2019  137500    Semi-Auto       10   Petrol  150  21.4   \n",
       "3367     R8  2019  135000    Automatic     1000   Petrol  145  32.8   \n",
       "5459     R8  2020  133900    Semi-Auto      333   Petrol  145  21.4   \n",
       "1646     R8  2019  129000    Semi-Auto     4000   Petrol  145  21.4   \n",
       "10468    R8  2019  125000    Automatic    13663   Petrol  150  21.4   \n",
       "4925     R8  2019  125000    Semi-Auto      500   Petrol  145  21.4   \n",
       "3359     R8  2019  125000    Automatic      100   Petrol  145  24.1   \n",
       "7445     R8  2019  119995    Semi-Auto     7800   Petrol  145  21.4   \n",
       "7128     R8  2019  119450    Automatic     3000   Petrol  145  21.4   \n",
       "4742     R8  2019  117990    Automatic    11936   Petrol  145  21.4   \n",
       "5707     R8  2019  116000    Automatic     2369   Petrol  145  22.6   \n",
       "3939     R8  2019  112990    Automatic     8175   Petrol  145  21.6   \n",
       "4954     R8  2019  109990    Automatic     6954   Petrol  145  21.6   \n",
       "6384    RS6  2020  109495    Semi-Auto     1500   Petrol  150  22.1   \n",
       "10225   RS6  2020  104948    Automatic     3000   Petrol  145  22.1   \n",
       "4400    RS6  2020  102544    Semi-Auto     2000   Petrol  145  22.1   \n",
       "3711    RS6  2020   97500    Semi-Auto     3220   Petrol  150  22.1   \n",
       "8630     R8  2018   95950    Automatic     5044   Petrol  150  23.0   \n",
       "\n",
       "       engineSize  \n",
       "4783          5.2  \n",
       "2255          5.2  \n",
       "4179          5.2  \n",
       "3367          5.2  \n",
       "5459          5.2  \n",
       "1646          5.2  \n",
       "10468         5.2  \n",
       "4925          5.2  \n",
       "3359          5.2  \n",
       "7445          5.2  \n",
       "7128          5.2  \n",
       "4742          5.2  \n",
       "5707          5.2  \n",
       "3939          5.2  \n",
       "4954          5.2  \n",
       "6384          4.0  \n",
       "10225         4.0  \n",
       "4400          4.0  \n",
       "3711          4.0  \n",
       "8630          5.2  "
      ]
     },
     "execution_count": 10,
     "metadata": {},
     "output_type": "execute_result"
    }
   ],
   "source": [
    "dataFrame.sort_values(\"price\",ascending= False).head(20) #ascending en yüksek fiyatı en yukarıda getirecek"
   ]
  },
  {
   "cell_type": "code",
   "execution_count": 11,
   "id": "53c22083",
   "metadata": {},
   "outputs": [
    {
     "data": {
      "text/plain": [
       "10668"
      ]
     },
     "execution_count": 11,
     "metadata": {},
     "output_type": "execute_result"
    }
   ],
   "source": [
    "len(dataFrame)"
   ]
  },
  {
   "cell_type": "code",
   "execution_count": 12,
   "id": "70142278",
   "metadata": {},
   "outputs": [
    {
     "data": {
      "text/plain": [
       "106.68"
      ]
     },
     "execution_count": 12,
     "metadata": {},
     "output_type": "execute_result"
    }
   ],
   "source": [
    "len(dataFrame) * 0.01   #atmak istediğimiz veri sayısı"
   ]
  },
  {
   "cell_type": "code",
   "execution_count": 13,
   "id": "772138a3",
   "metadata": {},
   "outputs": [],
   "source": [
    "yeniDataFrame = dataFrame.sort_values(\"price\", ascending = False).iloc[106:]"
   ]
  },
  {
   "cell_type": "code",
   "execution_count": 14,
   "id": "f711a43f",
   "metadata": {},
   "outputs": [
    {
     "data": {
      "text/html": [
       "<div>\n",
       "<style scoped>\n",
       "    .dataframe tbody tr th:only-of-type {\n",
       "        vertical-align: middle;\n",
       "    }\n",
       "\n",
       "    .dataframe tbody tr th {\n",
       "        vertical-align: top;\n",
       "    }\n",
       "\n",
       "    .dataframe thead th {\n",
       "        text-align: right;\n",
       "    }\n",
       "</style>\n",
       "<table border=\"1\" class=\"dataframe\">\n",
       "  <thead>\n",
       "    <tr style=\"text-align: right;\">\n",
       "      <th></th>\n",
       "      <th>year</th>\n",
       "      <th>price</th>\n",
       "      <th>mileage</th>\n",
       "      <th>tax</th>\n",
       "      <th>mpg</th>\n",
       "      <th>engineSize</th>\n",
       "    </tr>\n",
       "  </thead>\n",
       "  <tbody>\n",
       "    <tr>\n",
       "      <th>count</th>\n",
       "      <td>10562.000000</td>\n",
       "      <td>10562.000000</td>\n",
       "      <td>10562.000000</td>\n",
       "      <td>10562.000000</td>\n",
       "      <td>10562.000000</td>\n",
       "      <td>10562.000000</td>\n",
       "    </tr>\n",
       "    <tr>\n",
       "      <th>mean</th>\n",
       "      <td>2017.079909</td>\n",
       "      <td>22331.520640</td>\n",
       "      <td>25012.921038</td>\n",
       "      <td>125.730449</td>\n",
       "      <td>50.977978</td>\n",
       "      <td>1.912412</td>\n",
       "    </tr>\n",
       "    <tr>\n",
       "      <th>std</th>\n",
       "      <td>2.166547</td>\n",
       "      <td>10079.220417</td>\n",
       "      <td>23540.812433</td>\n",
       "      <td>67.199298</td>\n",
       "      <td>12.837371</td>\n",
       "      <td>0.571433</td>\n",
       "    </tr>\n",
       "    <tr>\n",
       "      <th>min</th>\n",
       "      <td>1997.000000</td>\n",
       "      <td>1490.000000</td>\n",
       "      <td>5.000000</td>\n",
       "      <td>0.000000</td>\n",
       "      <td>18.900000</td>\n",
       "      <td>0.000000</td>\n",
       "    </tr>\n",
       "    <tr>\n",
       "      <th>25%</th>\n",
       "      <td>2016.000000</td>\n",
       "      <td>15000.000000</td>\n",
       "      <td>6000.000000</td>\n",
       "      <td>125.000000</td>\n",
       "      <td>40.900000</td>\n",
       "      <td>1.500000</td>\n",
       "    </tr>\n",
       "    <tr>\n",
       "      <th>50%</th>\n",
       "      <td>2017.000000</td>\n",
       "      <td>20000.000000</td>\n",
       "      <td>19298.000000</td>\n",
       "      <td>145.000000</td>\n",
       "      <td>49.600000</td>\n",
       "      <td>2.000000</td>\n",
       "    </tr>\n",
       "    <tr>\n",
       "      <th>75%</th>\n",
       "      <td>2019.000000</td>\n",
       "      <td>27847.750000</td>\n",
       "      <td>36715.000000</td>\n",
       "      <td>145.000000</td>\n",
       "      <td>58.900000</td>\n",
       "      <td>2.000000</td>\n",
       "    </tr>\n",
       "    <tr>\n",
       "      <th>max</th>\n",
       "      <td>2020.000000</td>\n",
       "      <td>59995.000000</td>\n",
       "      <td>323000.000000</td>\n",
       "      <td>580.000000</td>\n",
       "      <td>188.300000</td>\n",
       "      <td>6.300000</td>\n",
       "    </tr>\n",
       "  </tbody>\n",
       "</table>\n",
       "</div>"
      ],
      "text/plain": [
       "               year         price        mileage           tax           mpg  \\\n",
       "count  10562.000000  10562.000000   10562.000000  10562.000000  10562.000000   \n",
       "mean    2017.079909  22331.520640   25012.921038    125.730449     50.977978   \n",
       "std        2.166547  10079.220417   23540.812433     67.199298     12.837371   \n",
       "min     1997.000000   1490.000000       5.000000      0.000000     18.900000   \n",
       "25%     2016.000000  15000.000000    6000.000000    125.000000     40.900000   \n",
       "50%     2017.000000  20000.000000   19298.000000    145.000000     49.600000   \n",
       "75%     2019.000000  27847.750000   36715.000000    145.000000     58.900000   \n",
       "max     2020.000000  59995.000000  323000.000000    580.000000    188.300000   \n",
       "\n",
       "         engineSize  \n",
       "count  10562.000000  \n",
       "mean       1.912412  \n",
       "std        0.571433  \n",
       "min        0.000000  \n",
       "25%        1.500000  \n",
       "50%        2.000000  \n",
       "75%        2.000000  \n",
       "max        6.300000  "
      ]
     },
     "execution_count": 14,
     "metadata": {},
     "output_type": "execute_result"
    }
   ],
   "source": [
    "yeniDataFrame.describe() #en yüksek fiyatlı 106 adet verinin çıkarılmış hali"
   ]
  },
  {
   "cell_type": "code",
   "execution_count": 15,
   "id": "de6b0808",
   "metadata": {},
   "outputs": [
    {
     "data": {
      "text/plain": [
       "<AxesSubplot:xlabel='price', ylabel='Count'>"
      ]
     },
     "execution_count": 15,
     "metadata": {},
     "output_type": "execute_result"
    },
    {
     "data": {
      "image/png": "[encoded data removed]",
      "text/plain": [
       "<Figure size 504x360 with 1 Axes>"
      ]
     },
     "metadata": {
      "needs_background": "light"
     },
     "output_type": "display_data"
    }
   ],
   "source": [
    "plt.figure(figsize=(7,5))\n",
    "sbn.histplot(yeniDataFrame[\"price\"])"
   ]
  },
  {
   "cell_type": "code",
   "execution_count": 16,
   "id": "d757922c",
   "metadata": {},
   "outputs": [
    {
     "data": {
      "text/plain": [
       "year\n",
       "1997     4650.000000\n",
       "1998     4999.000000\n",
       "2002     2433.000000\n",
       "2003     3408.333333\n",
       "2004     5053.600000\n",
       "2005     3490.714286\n",
       "2006     6499.111111\n",
       "2007     7325.250000\n",
       "2008     6281.428571\n",
       "2009     6281.956522\n",
       "2010     7224.093750\n",
       "2011     8944.808511\n",
       "2012     9860.811765\n",
       "2013    11690.790378\n",
       "2014    13890.659955\n",
       "2015    15128.235235\n",
       "2016    16908.725051\n",
       "2017    19951.624289\n",
       "2018    26296.707176\n",
       "2019    30410.752268\n",
       "2020    35967.067039\n",
       "Name: price, dtype: float64"
      ]
     },
     "execution_count": 16,
     "metadata": {},
     "output_type": "execute_result"
    }
   ],
   "source": [
    "dataFrame.groupby(\"year\").mean()[\"price\"]"
   ]
  },
  {
   "cell_type": "code",
   "execution_count": 17,
   "id": "52c3ef16",
   "metadata": {},
   "outputs": [
    {
     "data": {
      "text/plain": [
       "year\n",
       "1997     4650.000000\n",
       "1998     4999.000000\n",
       "2002     2433.000000\n",
       "2003     3408.333333\n",
       "2004     5053.600000\n",
       "2005     3490.714286\n",
       "2006     6499.111111\n",
       "2007     7325.250000\n",
       "2008     6281.428571\n",
       "2009     6281.956522\n",
       "2010     7224.093750\n",
       "2011     8944.808511\n",
       "2012     9860.811765\n",
       "2013    11690.790378\n",
       "2014    13890.659955\n",
       "2015    15128.235235\n",
       "2016    16847.266055\n",
       "2017    19908.537506\n",
       "2018    25465.005896\n",
       "2019    29689.902060\n",
       "2020    33201.278274\n",
       "Name: price, dtype: float64"
      ]
     },
     "execution_count": 17,
     "metadata": {},
     "output_type": "execute_result"
    }
   ],
   "source": [
    "yeniDataFrame.groupby(\"year\").mean()[\"price\"]"
   ]
  },
  {
   "cell_type": "code",
   "execution_count": 18,
   "id": "71835e8f",
   "metadata": {},
   "outputs": [],
   "source": [
    "dataFrame = dataFrame.drop(\"model\",axis=1)\n",
    "dataFrame = dataFrame.drop(\"fuelType\",axis=1)\n",
    "dataFrame = dataFrame.drop(\"transmission\",axis=1)"
   ]
  },
  {
   "cell_type": "code",
   "execution_count": null,
   "id": "378e3d54",
   "metadata": {},
   "outputs": [],
   "source": []
  },
  {
   "cell_type": "code",
   "execution_count": 19,
   "id": "a93bf3e5",
   "metadata": {},
   "outputs": [],
   "source": [
    "y = dataFrame[\"price\"].values\n",
    "x = dataFrame.drop(\"price\",axis=1).values"
   ]
  },
  {
   "cell_type": "code",
   "execution_count": 20,
   "id": "90739d5d",
   "metadata": {},
   "outputs": [
    {
     "data": {
      "text/plain": [
       "array([12500, 16500, 11000, ..., 17199, 19499, 15999], dtype=int64)"
      ]
     },
     "execution_count": 20,
     "metadata": {},
     "output_type": "execute_result"
    }
   ],
   "source": [
    "y"
   ]
  },
  {
   "cell_type": "code",
   "execution_count": 21,
   "id": "b09688c1",
   "metadata": {},
   "outputs": [
    {
     "data": {
      "text/plain": [
       "array([[2.0170e+03, 1.5735e+04, 1.5000e+02, 5.5400e+01, 1.4000e+00],\n",
       "       [2.0160e+03, 3.6203e+04, 2.0000e+01, 6.4200e+01, 2.0000e+00],\n",
       "       [2.0160e+03, 2.9946e+04, 3.0000e+01, 5.5400e+01, 1.4000e+00],\n",
       "       ...,\n",
       "       [2.0200e+03, 6.0900e+02, 1.5000e+02, 4.9600e+01, 1.0000e+00],\n",
       "       [2.0170e+03, 8.6460e+03, 1.5000e+02, 4.7900e+01, 1.4000e+00],\n",
       "       [2.0160e+03, 1.1855e+04, 1.5000e+02, 4.7900e+01, 1.4000e+00]])"
      ]
     },
     "execution_count": 21,
     "metadata": {},
     "output_type": "execute_result"
    }
   ],
   "source": [
    "x"
   ]
  },
  {
   "cell_type": "code",
   "execution_count": 22,
   "id": "9f501902",
   "metadata": {},
   "outputs": [],
   "source": [
    "x_train, x_test, y_train, y_test = train_test_split(x,y,test_size=0.3,random_state=10)"
   ]
  },
  {
   "cell_type": "code",
   "execution_count": 23,
   "id": "7d9eb8cc",
   "metadata": {},
   "outputs": [
    {
     "data": {
      "text/plain": [
       "7467"
      ]
     },
     "execution_count": 23,
     "metadata": {},
     "output_type": "execute_result"
    }
   ],
   "source": [
    "len(x_train)"
   ]
  },
  {
   "cell_type": "code",
   "execution_count": 24,
   "id": "8a8a8440",
   "metadata": {},
   "outputs": [
    {
     "data": {
      "text/plain": [
       "3201"
      ]
     },
     "execution_count": 24,
     "metadata": {},
     "output_type": "execute_result"
    }
   ],
   "source": [
    "len(x_test)"
   ]
  },
  {
   "cell_type": "code",
   "execution_count": 25,
   "id": "022a5721",
   "metadata": {},
   "outputs": [],
   "source": [
    "scaler = MinMaxScaler()"
   ]
  },
  {
   "cell_type": "code",
   "execution_count": 26,
   "id": "50ff9add",
   "metadata": {},
   "outputs": [],
   "source": [
    "x_train = scaler.fit_transform(x_train)"
   ]
  },
  {
   "cell_type": "code",
   "execution_count": 27,
   "id": "969ec0c9",
   "metadata": {},
   "outputs": [],
   "source": [
    "x_test = scaler.fit_transform(x_test)"
   ]
  },
  {
   "cell_type": "code",
   "execution_count": 28,
   "id": "59c16bf0",
   "metadata": {},
   "outputs": [
    {
     "data": {
      "text/plain": [
       "(7467, 5)"
      ]
     },
     "execution_count": 28,
     "metadata": {},
     "output_type": "execute_result"
    }
   ],
   "source": [
    "x_train.shape"
   ]
  },
  {
   "cell_type": "code",
   "execution_count": 91,
   "id": "dacc09ef",
   "metadata": {},
   "outputs": [],
   "source": [
    "model = Sequential()\n",
    "\n",
    "model.add(Dense(20,activation=\"relu\"))\n",
    "model.add(Dense(20,activation=\"relu\"))\n",
    "model.add(Dense(20,activation=\"relu\"))\n",
    "model.add(Dense(20,activation=\"relu\"))\n",
    "\n",
    "model.add(Dense(1))\n",
    "\n",
    "model.compile(optimizer=\"adam\",loss=\"mse\")"
   ]
  },
  {
   "cell_type": "code",
   "execution_count": 92,
   "id": "88c0c08f",
   "metadata": {},
   "outputs": [
    {
     "name": "stdout",
     "output_type": "stream",
     "text": [
      "Epoch 1/100\n",
      "30/30 [==============================] - 1s 6ms/step - loss: 666118144.0000 - val_loss: 650670720.0000\n",
      "Epoch 2/100\n",
      "30/30 [==============================] - 0s 3ms/step - loss: 666112640.0000 - val_loss: 650665792.0000\n",
      "Epoch 3/100\n",
      "30/30 [==============================] - 0s 3ms/step - loss: 666097920.0000 - val_loss: 650634304.0000\n",
      "Epoch 4/100\n",
      "30/30 [==============================] - 0s 3ms/step - loss: 666038784.0000 - val_loss: 650517504.0000\n",
      "Epoch 5/100\n",
      "30/30 [==============================] - 0s 3ms/step - loss: 665824576.0000 - val_loss: 650104448.0000\n",
      "Epoch 6/100\n",
      "30/30 [==============================] - 0s 3ms/step - loss: 665123840.0000 - val_loss: 648822144.0000\n",
      "Epoch 7/100\n",
      "30/30 [==============================] - 0s 3ms/step - loss: 663095296.0000 - val_loss: 645352320.0000\n",
      "Epoch 8/100\n",
      "30/30 [==============================] - 0s 3ms/step - loss: 657993792.0000 - val_loss: 637171904.0000\n",
      "Epoch 9/100\n",
      "30/30 [==============================] - 0s 3ms/step - loss: 646873728.0000 - val_loss: 620426112.0000\n",
      "Epoch 10/100\n",
      "30/30 [==============================] - 0s 4ms/step - loss: 625430080.0000 - val_loss: 589845312.0000\n",
      "Epoch 11/100\n",
      "30/30 [==============================] - 0s 4ms/step - loss: 587724352.0000 - val_loss: 538852224.0000\n",
      "Epoch 12/100\n",
      "30/30 [==============================] - 0s 3ms/step - loss: 527762464.0000 - val_loss: 462007232.0000\n",
      "Epoch 13/100\n",
      "30/30 [==============================] - 0s 3ms/step - loss: 442607040.0000 - val_loss: 362480160.0000\n",
      "Epoch 14/100\n",
      "30/30 [==============================] - 0s 4ms/step - loss: 339373152.0000 - val_loss: 255711424.0000\n",
      "Epoch 15/100\n",
      "30/30 [==============================] - 0s 3ms/step - loss: 237659680.0000 - val_loss: 171268496.0000\n",
      "Epoch 16/100\n",
      "30/30 [==============================] - 0s 3ms/step - loss: 164989632.0000 - val_loss: 130783080.0000\n",
      "Epoch 17/100\n",
      "30/30 [==============================] - 0s 3ms/step - loss: 132183592.0000 - val_loss: 124207648.0000\n",
      "Epoch 18/100\n",
      "30/30 [==============================] - 0s 3ms/step - loss: 123555840.0000 - val_loss: 124644968.0000\n",
      "Epoch 19/100\n",
      "30/30 [==============================] - 0s 3ms/step - loss: 121511616.0000 - val_loss: 123588232.0000\n",
      "Epoch 20/100\n",
      "30/30 [==============================] - 0s 3ms/step - loss: 120242584.0000 - val_loss: 121873448.0000\n",
      "Epoch 21/100\n",
      "30/30 [==============================] - 0s 4ms/step - loss: 119082296.0000 - val_loss: 119865272.0000\n",
      "Epoch 22/100\n",
      "30/30 [==============================] - 0s 4ms/step - loss: 117971224.0000 - val_loss: 118370504.0000\n",
      "Epoch 23/100\n",
      "30/30 [==============================] - 0s 4ms/step - loss: 116894008.0000 - val_loss: 116565248.0000\n",
      "Epoch 24/100\n",
      "30/30 [==============================] - 0s 4ms/step - loss: 115853600.0000 - val_loss: 114761968.0000\n",
      "Epoch 25/100\n",
      "30/30 [==============================] - 0s 4ms/step - loss: 114818968.0000 - val_loss: 113471592.0000\n",
      "Epoch 26/100\n",
      "30/30 [==============================] - 0s 3ms/step - loss: 113818312.0000 - val_loss: 111974264.0000\n",
      "Epoch 27/100\n",
      "30/30 [==============================] - 0s 4ms/step - loss: 112844608.0000 - val_loss: 110473296.0000\n",
      "Epoch 28/100\n",
      "30/30 [==============================] - 0s 3ms/step - loss: 111842488.0000 - val_loss: 108887480.0000\n",
      "Epoch 29/100\n",
      "30/30 [==============================] - 0s 3ms/step - loss: 110879568.0000 - val_loss: 107522576.0000\n",
      "Epoch 30/100\n",
      "30/30 [==============================] - 0s 3ms/step - loss: 109924760.0000 - val_loss: 106015616.0000\n",
      "Epoch 31/100\n",
      "30/30 [==============================] - 0s 3ms/step - loss: 108968936.0000 - val_loss: 104877784.0000\n",
      "Epoch 32/100\n",
      "30/30 [==============================] - 0s 3ms/step - loss: 108000192.0000 - val_loss: 103248864.0000\n",
      "Epoch 33/100\n",
      "30/30 [==============================] - 0s 3ms/step - loss: 107065920.0000 - val_loss: 102028728.0000\n",
      "Epoch 34/100\n",
      "30/30 [==============================] - 0s 3ms/step - loss: 106095352.0000 - val_loss: 100804680.0000\n",
      "Epoch 35/100\n",
      "30/30 [==============================] - 0s 3ms/step - loss: 105158648.0000 - val_loss: 99298944.0000\n",
      "Epoch 36/100\n",
      "30/30 [==============================] - 0s 3ms/step - loss: 104177936.0000 - val_loss: 98032440.0000\n",
      "Epoch 37/100\n",
      "30/30 [==============================] - 0s 3ms/step - loss: 103229704.0000 - val_loss: 96613240.0000\n",
      "Epoch 38/100\n",
      "30/30 [==============================] - 0s 3ms/step - loss: 102305760.0000 - val_loss: 95192896.0000\n",
      "Epoch 39/100\n",
      "30/30 [==============================] - 0s 3ms/step - loss: 101286312.0000 - val_loss: 94324600.0000\n",
      "Epoch 40/100\n",
      "30/30 [==============================] - 0s 3ms/step - loss: 100313104.0000 - val_loss: 92572528.0000\n",
      "Epoch 41/100\n",
      "30/30 [==============================] - 0s 3ms/step - loss: 99326504.0000 - val_loss: 91212336.0000\n",
      "Epoch 42/100\n",
      "30/30 [==============================] - 0s 3ms/step - loss: 98338536.0000 - val_loss: 89968632.0000\n",
      "Epoch 43/100\n",
      "30/30 [==============================] - 0s 3ms/step - loss: 97327632.0000 - val_loss: 88694808.0000\n",
      "Epoch 44/100\n",
      "30/30 [==============================] - 0s 3ms/step - loss: 96325440.0000 - val_loss: 87090032.0000\n",
      "Epoch 45/100\n",
      "30/30 [==============================] - 0s 3ms/step - loss: 95271792.0000 - val_loss: 85653960.0000\n",
      "Epoch 46/100\n",
      "30/30 [==============================] - 0s 3ms/step - loss: 94227944.0000 - val_loss: 84370264.0000\n",
      "Epoch 47/100\n",
      "30/30 [==============================] - 0s 3ms/step - loss: 93187240.0000 - val_loss: 83115808.0000\n",
      "Epoch 48/100\n",
      "30/30 [==============================] - 0s 3ms/step - loss: 92083568.0000 - val_loss: 81474872.0000\n",
      "Epoch 49/100\n",
      "30/30 [==============================] - 0s 3ms/step - loss: 90999352.0000 - val_loss: 80121640.0000\n",
      "Epoch 50/100\n",
      "30/30 [==============================] - 0s 3ms/step - loss: 89880512.0000 - val_loss: 78806728.0000\n",
      "Epoch 51/100\n",
      "30/30 [==============================] - 0s 3ms/step - loss: 88733952.0000 - val_loss: 77302408.0000\n",
      "Epoch 52/100\n",
      "30/30 [==============================] - 0s 3ms/step - loss: 87566360.0000 - val_loss: 75705520.0000\n",
      "Epoch 53/100\n",
      "30/30 [==============================] - 0s 3ms/step - loss: 86390152.0000 - val_loss: 74314744.0000\n",
      "Epoch 54/100\n",
      "30/30 [==============================] - 0s 3ms/step - loss: 85167880.0000 - val_loss: 72869440.0000\n",
      "Epoch 55/100\n",
      "30/30 [==============================] - 0s 3ms/step - loss: 83913576.0000 - val_loss: 71274768.0000\n",
      "Epoch 56/100\n",
      "30/30 [==============================] - 0s 3ms/step - loss: 82649760.0000 - val_loss: 69718176.0000\n",
      "Epoch 57/100\n",
      "30/30 [==============================] - 0s 3ms/step - loss: 81370184.0000 - val_loss: 68300072.0000\n",
      "Epoch 58/100\n",
      "30/30 [==============================] - 0s 3ms/step - loss: 80023888.0000 - val_loss: 66894388.0000\n",
      "Epoch 59/100\n",
      "30/30 [==============================] - 0s 3ms/step - loss: 78677016.0000 - val_loss: 65050252.0000\n",
      "Epoch 60/100\n",
      "30/30 [==============================] - 0s 3ms/step - loss: 77266368.0000 - val_loss: 63582000.0000\n",
      "Epoch 61/100\n",
      "30/30 [==============================] - 0s 3ms/step - loss: 75836640.0000 - val_loss: 62052592.0000\n",
      "Epoch 62/100\n",
      "30/30 [==============================] - 0s 3ms/step - loss: 74415336.0000 - val_loss: 60473288.0000\n",
      "Epoch 63/100\n",
      "30/30 [==============================] - 0s 3ms/step - loss: 72943240.0000 - val_loss: 59004608.0000\n",
      "Epoch 64/100\n",
      "30/30 [==============================] - 0s 3ms/step - loss: 71471264.0000 - val_loss: 57122884.0000\n",
      "Epoch 65/100\n",
      "30/30 [==============================] - 0s 3ms/step - loss: 70000048.0000 - val_loss: 55494628.0000\n",
      "Epoch 66/100\n",
      "30/30 [==============================] - 0s 3ms/step - loss: 68469272.0000 - val_loss: 53922596.0000\n",
      "Epoch 67/100\n",
      "30/30 [==============================] - 0s 3ms/step - loss: 66895064.0000 - val_loss: 52457724.0000\n",
      "Epoch 68/100\n",
      "30/30 [==============================] - 0s 3ms/step - loss: 65344836.0000 - val_loss: 51154728.0000\n",
      "Epoch 69/100\n",
      "30/30 [==============================] - 0s 3ms/step - loss: 63778744.0000 - val_loss: 49392748.0000\n",
      "Epoch 70/100\n",
      "30/30 [==============================] - 0s 3ms/step - loss: 62223000.0000 - val_loss: 47981008.0000\n",
      "Epoch 71/100\n",
      "30/30 [==============================] - 0s 3ms/step - loss: 60575388.0000 - val_loss: 46338052.0000\n",
      "Epoch 72/100\n"
     ]
    },
    {
     "name": "stdout",
     "output_type": "stream",
     "text": [
      "30/30 [==============================] - 0s 4ms/step - loss: 59042868.0000 - val_loss: 44593292.0000\n",
      "Epoch 73/100\n",
      "30/30 [==============================] - 0s 3ms/step - loss: 57357276.0000 - val_loss: 43449804.0000\n",
      "Epoch 74/100\n",
      "30/30 [==============================] - 0s 3ms/step - loss: 55743800.0000 - val_loss: 41934044.0000\n",
      "Epoch 75/100\n",
      "30/30 [==============================] - 0s 3ms/step - loss: 54119124.0000 - val_loss: 40677612.0000\n",
      "Epoch 76/100\n",
      "30/30 [==============================] - 0s 3ms/step - loss: 52509312.0000 - val_loss: 39391480.0000\n",
      "Epoch 77/100\n",
      "30/30 [==============================] - 0s 3ms/step - loss: 50921516.0000 - val_loss: 38346016.0000\n",
      "Epoch 78/100\n",
      "30/30 [==============================] - 0s 3ms/step - loss: 49340816.0000 - val_loss: 37139700.0000\n",
      "Epoch 79/100\n",
      "30/30 [==============================] - 0s 3ms/step - loss: 47776820.0000 - val_loss: 35876816.0000\n",
      "Epoch 80/100\n",
      "30/30 [==============================] - 0s 3ms/step - loss: 46299900.0000 - val_loss: 34682700.0000\n",
      "Epoch 81/100\n",
      "30/30 [==============================] - 0s 3ms/step - loss: 44787472.0000 - val_loss: 33852268.0000\n",
      "Epoch 82/100\n",
      "30/30 [==============================] - 0s 3ms/step - loss: 43361780.0000 - val_loss: 32924966.0000\n",
      "Epoch 83/100\n",
      "30/30 [==============================] - 0s 3ms/step - loss: 41960656.0000 - val_loss: 32694070.0000\n",
      "Epoch 84/100\n",
      "30/30 [==============================] - 0s 3ms/step - loss: 40645524.0000 - val_loss: 31763890.0000\n",
      "Epoch 85/100\n",
      "30/30 [==============================] - 0s 3ms/step - loss: 39362084.0000 - val_loss: 31280098.0000\n",
      "Epoch 86/100\n",
      "30/30 [==============================] - 0s 3ms/step - loss: 38134660.0000 - val_loss: 31030538.0000\n",
      "Epoch 87/100\n",
      "30/30 [==============================] - 0s 3ms/step - loss: 37018720.0000 - val_loss: 30235246.0000\n",
      "Epoch 88/100\n",
      "30/30 [==============================] - 0s 3ms/step - loss: 35919640.0000 - val_loss: 30243242.0000\n",
      "Epoch 89/100\n",
      "30/30 [==============================] - 0s 3ms/step - loss: 34922864.0000 - val_loss: 29486816.0000\n",
      "Epoch 90/100\n",
      "30/30 [==============================] - 0s 3ms/step - loss: 33962148.0000 - val_loss: 29750414.0000\n",
      "Epoch 91/100\n",
      "30/30 [==============================] - 0s 3ms/step - loss: 33071838.0000 - val_loss: 29507604.0000\n",
      "Epoch 92/100\n",
      "30/30 [==============================] - 0s 3ms/step - loss: 32245262.0000 - val_loss: 29228514.0000\n",
      "Epoch 93/100\n",
      "30/30 [==============================] - 0s 3ms/step - loss: 31523106.0000 - val_loss: 29096978.0000\n",
      "Epoch 94/100\n",
      "30/30 [==============================] - 0s 3ms/step - loss: 30735630.0000 - val_loss: 29046312.0000\n",
      "Epoch 95/100\n",
      "30/30 [==============================] - 0s 3ms/step - loss: 30037662.0000 - val_loss: 29027644.0000\n",
      "Epoch 96/100\n",
      "30/30 [==============================] - 0s 3ms/step - loss: 29397204.0000 - val_loss: 29102856.0000\n",
      "Epoch 97/100\n",
      "30/30 [==============================] - 0s 3ms/step - loss: 28762606.0000 - val_loss: 28510046.0000\n",
      "Epoch 98/100\n",
      "30/30 [==============================] - 0s 3ms/step - loss: 28198012.0000 - val_loss: 28951276.0000\n",
      "Epoch 99/100\n",
      "30/30 [==============================] - 0s 3ms/step - loss: 27593490.0000 - val_loss: 29072958.0000\n",
      "Epoch 100/100\n",
      "30/30 [==============================] - 0s 3ms/step - loss: 27031182.0000 - val_loss: 28117506.0000\n"
     ]
    },
    {
     "data": {
      "text/plain": [
       "<keras.callbacks.History at 0x1f8a7bc52e0>"
      ]
     },
     "execution_count": 92,
     "metadata": {},
     "output_type": "execute_result"
    }
   ],
   "source": [
    "model.fit(x = x_train, y = y_train,validation_data=(x_test,y_test),batch_size=250,epochs=100)"
   ]
  },
  {
   "cell_type": "code",
   "execution_count": 93,
   "id": "f1ed6ff9",
   "metadata": {},
   "outputs": [],
   "source": [
    "kayipVeri = pd.DataFrame(model.history.history)"
   ]
  },
  {
   "cell_type": "code",
   "execution_count": 94,
   "id": "7acef9ba",
   "metadata": {},
   "outputs": [
    {
     "data": {
      "text/html": [
       "<div>\n",
       "<style scoped>\n",
       "    .dataframe tbody tr th:only-of-type {\n",
       "        vertical-align: middle;\n",
       "    }\n",
       "\n",
       "    .dataframe tbody tr th {\n",
       "        vertical-align: top;\n",
       "    }\n",
       "\n",
       "    .dataframe thead th {\n",
       "        text-align: right;\n",
       "    }\n",
       "</style>\n",
       "<table border=\"1\" class=\"dataframe\">\n",
       "  <thead>\n",
       "    <tr style=\"text-align: right;\">\n",
       "      <th></th>\n",
       "      <th>loss</th>\n",
       "      <th>val_loss</th>\n",
       "    </tr>\n",
       "  </thead>\n",
       "  <tbody>\n",
       "    <tr>\n",
       "      <th>0</th>\n",
       "      <td>666118144.0</td>\n",
       "      <td>650670720.0</td>\n",
       "    </tr>\n",
       "    <tr>\n",
       "      <th>1</th>\n",
       "      <td>666112640.0</td>\n",
       "      <td>650665792.0</td>\n",
       "    </tr>\n",
       "    <tr>\n",
       "      <th>2</th>\n",
       "      <td>666097920.0</td>\n",
       "      <td>650634304.0</td>\n",
       "    </tr>\n",
       "    <tr>\n",
       "      <th>3</th>\n",
       "      <td>666038784.0</td>\n",
       "      <td>650517504.0</td>\n",
       "    </tr>\n",
       "    <tr>\n",
       "      <th>4</th>\n",
       "      <td>665824576.0</td>\n",
       "      <td>650104448.0</td>\n",
       "    </tr>\n",
       "  </tbody>\n",
       "</table>\n",
       "</div>"
      ],
      "text/plain": [
       "          loss     val_loss\n",
       "0  666118144.0  650670720.0\n",
       "1  666112640.0  650665792.0\n",
       "2  666097920.0  650634304.0\n",
       "3  666038784.0  650517504.0\n",
       "4  665824576.0  650104448.0"
      ]
     },
     "execution_count": 94,
     "metadata": {},
     "output_type": "execute_result"
    }
   ],
   "source": [
    "kayipVeri.head()"
   ]
  },
  {
   "cell_type": "code",
   "execution_count": 95,
   "id": "66425009",
   "metadata": {},
   "outputs": [
    {
     "data": {
      "text/plain": [
       "<AxesSubplot:>"
      ]
     },
     "execution_count": 95,
     "metadata": {},
     "output_type": "execute_result"
    },
    {
     "data": {
      "image/png": "[encoded data removed]",
      "text/plain": [
       "<Figure size 432x288 with 1 Axes>"
      ]
     },
     "metadata": {
      "needs_background": "light"
     },
     "output_type": "display_data"
    }
   ],
   "source": [
    "kayipVeri.plot()"
   ]
  },
  {
   "cell_type": "code",
   "execution_count": 96,
   "id": "e3065b5e",
   "metadata": {},
   "outputs": [],
   "source": [
    "tahminDizisi = model.predict(x_test)"
   ]
  },
  {
   "cell_type": "code",
   "execution_count": 97,
   "id": "9ad7e393",
   "metadata": {},
   "outputs": [
    {
     "data": {
      "text/plain": [
       "3783.83686223696"
      ]
     },
     "execution_count": 97,
     "metadata": {},
     "output_type": "execute_result"
    }
   ],
   "source": [
    "mean_absolute_error(y_test,tahminDizisi)"
   ]
  },
  {
   "cell_type": "code",
   "execution_count": 98,
   "id": "239379df",
   "metadata": {},
   "outputs": [
    {
     "data": {
      "text/html": [
       "<div>\n",
       "<style scoped>\n",
       "    .dataframe tbody tr th:only-of-type {\n",
       "        vertical-align: middle;\n",
       "    }\n",
       "\n",
       "    .dataframe tbody tr th {\n",
       "        vertical-align: top;\n",
       "    }\n",
       "\n",
       "    .dataframe thead th {\n",
       "        text-align: right;\n",
       "    }\n",
       "</style>\n",
       "<table border=\"1\" class=\"dataframe\">\n",
       "  <thead>\n",
       "    <tr style=\"text-align: right;\">\n",
       "      <th></th>\n",
       "      <th>year</th>\n",
       "      <th>price</th>\n",
       "      <th>mileage</th>\n",
       "      <th>tax</th>\n",
       "      <th>mpg</th>\n",
       "      <th>engineSize</th>\n",
       "    </tr>\n",
       "  </thead>\n",
       "  <tbody>\n",
       "    <tr>\n",
       "      <th>count</th>\n",
       "      <td>10668.000000</td>\n",
       "      <td>10668.000000</td>\n",
       "      <td>10668.000000</td>\n",
       "      <td>10668.000000</td>\n",
       "      <td>10668.000000</td>\n",
       "      <td>10668.000000</td>\n",
       "    </tr>\n",
       "    <tr>\n",
       "      <th>mean</th>\n",
       "      <td>2017.100675</td>\n",
       "      <td>22896.685039</td>\n",
       "      <td>24827.244001</td>\n",
       "      <td>126.011436</td>\n",
       "      <td>50.770022</td>\n",
       "      <td>1.930709</td>\n",
       "    </tr>\n",
       "    <tr>\n",
       "      <th>std</th>\n",
       "      <td>2.167494</td>\n",
       "      <td>11714.841888</td>\n",
       "      <td>23505.257205</td>\n",
       "      <td>67.170294</td>\n",
       "      <td>12.949782</td>\n",
       "      <td>0.602957</td>\n",
       "    </tr>\n",
       "    <tr>\n",
       "      <th>min</th>\n",
       "      <td>1997.000000</td>\n",
       "      <td>1490.000000</td>\n",
       "      <td>1.000000</td>\n",
       "      <td>0.000000</td>\n",
       "      <td>18.900000</td>\n",
       "      <td>0.000000</td>\n",
       "    </tr>\n",
       "    <tr>\n",
       "      <th>25%</th>\n",
       "      <td>2016.000000</td>\n",
       "      <td>15130.750000</td>\n",
       "      <td>5968.750000</td>\n",
       "      <td>125.000000</td>\n",
       "      <td>40.900000</td>\n",
       "      <td>1.500000</td>\n",
       "    </tr>\n",
       "    <tr>\n",
       "      <th>50%</th>\n",
       "      <td>2017.000000</td>\n",
       "      <td>20200.000000</td>\n",
       "      <td>19000.000000</td>\n",
       "      <td>145.000000</td>\n",
       "      <td>49.600000</td>\n",
       "      <td>2.000000</td>\n",
       "    </tr>\n",
       "    <tr>\n",
       "      <th>75%</th>\n",
       "      <td>2019.000000</td>\n",
       "      <td>27990.000000</td>\n",
       "      <td>36464.500000</td>\n",
       "      <td>145.000000</td>\n",
       "      <td>58.900000</td>\n",
       "      <td>2.000000</td>\n",
       "    </tr>\n",
       "    <tr>\n",
       "      <th>max</th>\n",
       "      <td>2020.000000</td>\n",
       "      <td>145000.000000</td>\n",
       "      <td>323000.000000</td>\n",
       "      <td>580.000000</td>\n",
       "      <td>188.300000</td>\n",
       "      <td>6.300000</td>\n",
       "    </tr>\n",
       "  </tbody>\n",
       "</table>\n",
       "</div>"
      ],
      "text/plain": [
       "               year          price        mileage           tax           mpg  \\\n",
       "count  10668.000000   10668.000000   10668.000000  10668.000000  10668.000000   \n",
       "mean    2017.100675   22896.685039   24827.244001    126.011436     50.770022   \n",
       "std        2.167494   11714.841888   23505.257205     67.170294     12.949782   \n",
       "min     1997.000000    1490.000000       1.000000      0.000000     18.900000   \n",
       "25%     2016.000000   15130.750000    5968.750000    125.000000     40.900000   \n",
       "50%     2017.000000   20200.000000   19000.000000    145.000000     49.600000   \n",
       "75%     2019.000000   27990.000000   36464.500000    145.000000     58.900000   \n",
       "max     2020.000000  145000.000000  323000.000000    580.000000    188.300000   \n",
       "\n",
       "         engineSize  \n",
       "count  10668.000000  \n",
       "mean       1.930709  \n",
       "std        0.602957  \n",
       "min        0.000000  \n",
       "25%        1.500000  \n",
       "50%        2.000000  \n",
       "75%        2.000000  \n",
       "max        6.300000  "
      ]
     },
     "execution_count": 98,
     "metadata": {},
     "output_type": "execute_result"
    }
   ],
   "source": [
    "dataFrame.describe()"
   ]
  },
  {
   "cell_type": "code",
   "execution_count": 102,
   "id": "90bf0932",
   "metadata": {},
   "outputs": [
    {
     "data": {
      "text/plain": [
       "[<matplotlib.lines.Line2D at 0x1f8aaa5eac0>]"
      ]
     },
     "execution_count": 102,
     "metadata": {},
     "output_type": "execute_result"
    },
    {
     "data": {
      "image/png": "[encoded data removed]",
      "text/plain": [
       "<Figure size 432x288 with 1 Axes>"
      ]
     },
     "metadata": {
      "needs_background": "light"
     },
     "output_type": "display_data"
    }
   ],
   "source": [
    "plt.scatter(y_test,tahminDizisi)\n",
    "plt.plot(y_test,y_test,\"g\" )"
   ]
  },
  {
   "cell_type": "code",
   "execution_count": 105,
   "id": "ec359c5c",
   "metadata": {},
   "outputs": [
    {
     "data": {
      "text/plain": [
       "year           2016.0\n",
       "price         13900.0\n",
       "mileage       32260.0\n",
       "tax              30.0\n",
       "mpg              58.9\n",
       "engineSize        1.4\n",
       "Name: 5, dtype: float64"
      ]
     },
     "execution_count": 105,
     "metadata": {},
     "output_type": "execute_result"
    }
   ],
   "source": [
    "dataFrame.iloc[5]"
   ]
  },
  {
   "cell_type": "code",
   "execution_count": 108,
   "id": "cf78bdf1",
   "metadata": {},
   "outputs": [],
   "source": [
    "yeniArabaSeries = dataFrame.drop(\"price\", axis=1).iloc[5]"
   ]
  },
  {
   "cell_type": "code",
   "execution_count": 110,
   "id": "e31f5ff3",
   "metadata": {},
   "outputs": [],
   "source": [
    "yeniArabaSeries = scaler.transform(yeniArabaSeries.values.reshape(-1,5))"
   ]
  },
  {
   "cell_type": "code",
   "execution_count": 111,
   "id": "caec51ec",
   "metadata": {},
   "outputs": [
    {
     "data": {
      "text/plain": [
       "array([[12642.359]], dtype=float32)"
      ]
     },
     "execution_count": 111,
     "metadata": {},
     "output_type": "execute_result"
    }
   ],
   "source": [
    "model.predict(yeniArabaSeries)"
   ]
  },
  {
   "cell_type": "code",
   "execution_count": null,
   "id": "2c7f6a35",
   "metadata": {},
   "outputs": [],
   "source": []
  }
 ],
 "metadata": {
  "kernelspec": {
   "display_name": "Python 3 (ipykernel)",
   "language": "python",
   "name": "python3"
  },
  "language_info": {
   "codemirror_mode": {
    "name": "ipython",
    "version": 3
   },
   "file_extension": ".py",
   "mimetype": "text/x-python",
   "name": "python",
   "nbconvert_exporter": "python",
   "pygments_lexer": "ipython3",
   "version": "3.9.7"
  }
 },
 "nbformat": 4,
 "nbformat_minor": 5
}
